{
 "cells": [
  {
   "cell_type": "code",
   "execution_count": 1,
   "metadata": {},
   "outputs": [],
   "source": [
    "import numpy as np\n",
    "import pandas as pd\n",
    "import flask\n",
    "from flask import Flask ,render_template,request\n",
    "from flask import redirect\n",
    "import pickle"
   ]
  },
  {
   "cell_type": "code",
   "execution_count": 2,
   "metadata": {},
   "outputs": [],
   "source": [
    "app=Flask(__name__,template_folder='templates')\n",
    "model=pickle.load(open('pickel_model.pkl','rb'))"
   ]
  },
  {
   "cell_type": "code",
   "execution_count": 3,
   "metadata": {},
   "outputs": [],
   "source": [
    "@app.route('/')\n",
    "@app.route('/index')\n",
    "def index():\n",
    "    return flask.render_template('home.html')"
   ]
  },
  {
   "cell_type": "code",
   "execution_count": 4,
   "metadata": {},
   "outputs": [],
   "source": [
    "@app.route('/EDA')\n",
    "def EDA():\n",
    "    return flask.render_template('Exploration Data Analysis.html')"
   ]
  },
  {
   "cell_type": "code",
   "execution_count": 5,
   "metadata": {},
   "outputs": [],
   "source": [
    "@app.route('/predict',methods=['GET','POST'])\n",
    "def predict():\n",
    "    if request.method == 'POST':\n",
    "        Fever= float(request.form['Fever'])\n",
    "        Tiredness= float(request.form['Tiredness'])\n",
    "        Dry_Cough= float(request.form['Dry_Cough'])\n",
    "        Difficulty_in_Breathing= float(request.form['Difficulty_in_Breathing'])\n",
    "        Sore_Throat= float(request.form['Sore_Throat'])\n",
    "        Pains= float(request.form['Pains'])\n",
    "        Nasal_Congestion= float(request.form['Nasal_Congestion'])\n",
    "        Runny_Nose= float(request.form['Runny_Nose'])\n",
    "        Diarrhea= float(request.form['Diarrhea'])\n",
    "        None_Experiencing= float(request.form['None_Experiencing'])\n",
    "        Age_0_9= float(request.form['Age_0_9'])\n",
    "        Age_10_19= float(request.form['Age_10_19'])\n",
    "        Age_20_24= float(request.form['Age_20_24'])\n",
    "        Age_25_59= float(request.form['Age_25_59'])\n",
    "        Age_60= float(request.form['Age_60'])    \n",
    "        Gender= float(request.form['Gender'])\n",
    "        Gender_Transgender= float(request.form['Gender_Transgender'])\n",
    "        inputdata=np.array([[Fever,Tiredness,Dry_Cough,Difficulty_in_Breathing,Sore_Throat,Pains,Nasal_Congestion,Runny_Nose,Diarrhea,None_Experiencing,\n",
    "         Age_0_9,Age_10_19,Age_20_24,Age_25_59,Age_60,Gender,Gender_Transgender ]])\n",
    "        predict=model.predict(inputdata)\n",
    "        return flask.render_template('output.html',prediction=predict)"
   ]
  },
  {
   "cell_type": "code",
   "execution_count": null,
   "metadata": {},
   "outputs": [],
   "source": [
    "if __name__=='__main__':\n",
    "    app.run(debug=True,use_reloader=False)"
   ]
  },
  {
   "cell_type": "code",
   "execution_count": null,
   "metadata": {},
   "outputs": [],
   "source": []
  }
 ],
 "metadata": {
  "kernelspec": {
   "display_name": "Python 3",
   "language": "python",
   "name": "python3"
  },
  "language_info": {
   "codemirror_mode": {
    "name": "ipython",
    "version": 3
   },
   "file_extension": ".py",
   "mimetype": "text/x-python",
   "name": "python",
   "nbconvert_exporter": "python",
   "pygments_lexer": "ipython3",
   "version": "3.8.5"
  }
 },
 "nbformat": 4,
 "nbformat_minor": 4
}
